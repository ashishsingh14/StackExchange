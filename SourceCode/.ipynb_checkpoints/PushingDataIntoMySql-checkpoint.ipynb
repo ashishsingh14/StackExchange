{
 "cells": [
  {
   "cell_type": "code",
   "execution_count": null,
   "metadata": {
    "collapsed": true
   },
   "outputs": [],
   "source": [
    "import xml.etree.ElementTree as ET\n",
    "from lxml import etree\n",
    "import pandas as pd\n",
    "from lxml import objectify"
   ]
  },
  {
   "cell_type": "code",
   "execution_count": null,
   "metadata": {
    "collapsed": true
   },
   "outputs": [],
   "source": [
    "xml_data = \"../DataScience/Comments.xml\"\n",
    "xml_metadata = \"../MetaDataScience/Comments.xml\""
   ]
  },
  {
   "cell_type": "code",
   "execution_count": null,
   "metadata": {
    "collapsed": true
   },
   "outputs": [],
   "source": [
    "from sqlalchemy import create_engine\n",
    "from sqlalchemy.ext.declarative import declarative_base\n",
    "from sqlalchemy import Column, Integer, String, Text,ForeignKey\n",
    "from sqlalchemy.orm import sessionmaker, relationship"
   ]
  },
  {
   "cell_type": "code",
   "execution_count": null,
   "metadata": {
    "collapsed": true
   },
   "outputs": [],
   "source": [
    "user = \"root\"\n",
    "password = \"*****\"\n",
    "host = \"127.0.0.1\"\n",
    "port = 3306"
   ]
  },
  {
   "cell_type": "code",
   "execution_count": null,
   "metadata": {
    "collapsed": true
   },
   "outputs": [],
   "source": [
    "engine = create_engine('mysql://{0}:{1}@{2}:{3}/StackExchange'.format(user, password, host, port),echo=True)"
   ]
  },
  {
   "cell_type": "code",
   "execution_count": null,
   "metadata": {
    "collapsed": false
   },
   "outputs": [],
   "source": [
    "existing_databases = engine.execute(\"show databases;\")\n",
    "existing_databases = [d[0] for d in existing_databases]\n",
    "engine.execute(\"use StackExchange;\")"
   ]
  },
  {
   "cell_type": "markdown",
   "metadata": {},
   "source": [
    "df.Text = df.Text.apply(lambda x: x.encode('ascii','ignore'))\n",
    "df.drop(\"UserDisplayName\",axis=1,inplace=True)\n",
    "df.head()\n",
    "df.to_sql(\"Customers\",engine.raw_connection(),if_exists=\"fail\",index=False,schema=\"StackExchange\")"
   ]
  },
  {
   "cell_type": "markdown",
   "metadata": {},
   "source": [
    "# Comments\n",
    "CreationDate\n",
    "PostId\n",
    "Score\n",
    "Text\n",
    "UserId\n",
    "\n",
    "# Badge\n",
    "UserId\n",
    "Name\n",
    "Date\n",
    "Class\n",
    "TagBased\n",
    "\n",
    "# PostHistory\n",
    "PostHistoryTypeId\n",
    "PostId\n",
    "RevisionGUID\n",
    "CreationDate\n",
    "UserId\n",
    "Text\n",
    "\n",
    "# PostLink\n",
    "CreationDate\n",
    "PostId\n",
    "RelatedPostId\n",
    "LinkTypeId\n",
    "\n",
    "# Posts\n",
    "PostTypeId\n",
    "CreationDate\n",
    "Score\n",
    "ViewCount\n",
    "Body\n",
    "OwnerUserId\n",
    "LastActivityDone\n",
    "Title\n",
    "Tags\n",
    "AnswerCount\n",
    "CommentCount\n",
    "FavoriteCount\n",
    "ClosedDate\n",
    "\n",
    "# Tags\n",
    "TagName\n",
    "Count\n",
    "ExcerptPostId\n",
    "WikiPostId\n",
    "\n",
    "# Users\n",
    "Reputation\n",
    "CreationDate\n",
    "DisplayName\n",
    "LastAccessDate\n",
    "WebsiteUrl\n",
    "Location\n",
    "AboutMe\n",
    "Views\n",
    "UpVotes\n",
    "DownVotes\n",
    "AccountId\n",
    "\n",
    "# Votes\n",
    "PostId\n",
    "VoteTypeId\n",
    "CreationDate\n",
    "\n",
    "https://ia800500.us.archive.org/22/items/stackexchange/readme.txt"
   ]
  },
  {
   "cell_type": "code",
   "execution_count": null,
   "metadata": {
    "collapsed": false
   },
   "outputs": [],
   "source": [
    "Base = declarative_base()\n",
    "class Comment(Base):\n",
    "    __tablename__ = \"Comment\"\n",
    "    Id = Column(String(250),nullable=True,primary_key=True)\n",
    "    CreationDate = Column(String(250),nullable=True)\n",
    "    PostId = Column(String(250),nullable=True)\n",
    "    Score = Column(String(250),nullable=True)\n",
    "    Text = Column(String(2000),nullable=True)\n",
    "    UserId = Column(String(250),nullable=True)\n",
    "\n",
    "class Badge(Base):\n",
    "    __tablename__ = \"Badge\"\n",
    "    Id = Column(String(250),nullable=True,primary_key=True)\n",
    "    UserId = Column(String(250),nullable=True)\n",
    "    Name = Column(String(250),nullable=True)\n",
    "    Date = Column(String(250),nullable=True)\n",
    "    Class = Column(String(250),nullable=True)\n",
    "    TagBased = Column(String(250),nullable=True)\n",
    "\n",
    "class PostHistory(Base):\n",
    "    __tablename__ = \"PostHistory\"\n",
    "    Id = Column(String(250),nullable=True,primary_key=True)\n",
    "    PostHistoryTypeId = Column(String(250),nullable=True)\n",
    "    PostId = Column(String(250),nullable=True)\n",
    "    RevisionGUID = Column(String(250),nullable=True)\n",
    "    CreationDate = Column(String(250),nullable=True)\n",
    "    UserId = Column(String(250),nullable=True)\n",
    "    Text = Column(String(10000),nullable=True)\n",
    "\n",
    "class PostLink(Base):\n",
    "    __tablename__ = \"PostLink\"\n",
    "    Id = Column(String(250),nullable=True,primary_key=True)\n",
    "    LinkTypeId = Column(String(250),nullable=True)\n",
    "    PostId = Column(String(250),nullable=True)\n",
    "    CreationDate = Column(String(250),nullable=True)\n",
    "    RelatedPostId = Column(String(250),nullable=True)\n",
    "\n",
    "class Post(Base):\n",
    "    __tablename__ = \"Post\"\n",
    "    Id = Column(String(250),nullable=True,primary_key=True)\n",
    "    PostTypeId = Column(String(250),nullable=True)\n",
    "    CreationDate = Column(String(250),nullable=True)\n",
    "    Score = Column(String(250),nullable=True)\n",
    "    ViewCount = Column(String(250),nullable=True)\n",
    "    Body = Column(String(10000),nullable=True)\n",
    "    OwnerUserId = Column(String(250),nullable=True)\n",
    "    LastActivityDone = Column(String(250),nullable=True)\n",
    "    Title = Column(String(250),nullable=True)\n",
    "    Tags = Column(String(250),nullable=True)\n",
    "    AnswerCount = Column(String(250),nullable=True)\n",
    "    CommentCount = Column(String(250),nullable=True)\n",
    "    FavoriteCount = Column(String(250),nullable=True)\n",
    "    ClosedDate = Column(String(250),nullable=True)\n",
    "\n",
    "class Tag(Base):\n",
    "    __tablename__ = \"Tag\"\n",
    "    Id = Column(String(250),nullable=True,primary_key=True)\n",
    "    TagName = Column(String(250),nullable=True)\n",
    "    Count = Column(String(250),nullable=True)\n",
    "    ExcerptPostId = Column(String(250),nullable=True)\n",
    "    WikiPostId = Column(String(250),nullable=True)\n",
    "\n",
    "class User(Base):\n",
    "    __tablename__ = \"User\"\n",
    "    Id = Column(String(250),nullable=True,primary_key=True)\n",
    "    Reputation = Column(String(250),nullable=True)\n",
    "    CreationDate = Column(String(250),nullable=True)\n",
    "    DisplayName = Column(String(250),nullable=True)\n",
    "    LastAccessDate = Column(String(250),nullable=True)\n",
    "    WebsiteUrl = Column(String(250),nullable=True)\n",
    "    Location = Column(String(250),nullable=True)\n",
    "    AboutMe = Column(String(10000),nullable=True)\n",
    "    Views = Column(String(250),nullable=True)\n",
    "    UpVotes = Column(String(250),nullable=True)\n",
    "    DownVotes = Column(String(250),nullable=True)\n",
    "    AccountId = Column(String(250),nullable=True)\n",
    "\n",
    "class Vote(Base):\n",
    "    __tablename__ = \"Vote\"\n",
    "    Id = Column(String(250),nullable=True,primary_key=True)\n",
    "    PostId = Column(String(250),nullable=True)\n",
    "    VoteTypeId = Column(String(250),nullable=True)\n",
    "    CreationDate = Column(String(250),nullable=True)"
   ]
  },
  {
   "cell_type": "code",
   "execution_count": null,
   "metadata": {
    "collapsed": false
   },
   "outputs": [],
   "source": [
    "Base.metadata.create_all(engine)"
   ]
  },
  {
   "cell_type": "markdown",
   "metadata": {},
   "source": [
    "select *\n",
    "from INFORMATION_SCHEMA.COLUMNS\n",
    "where TABLE_NAME='Customers';"
   ]
  },
  {
   "cell_type": "code",
   "execution_count": null,
   "metadata": {
    "collapsed": true
   },
   "outputs": [],
   "source": [
    "Base.metadata.bind = engine\n",
    "DBSession = sessionmaker(bind=engine)\n",
    "session = DBSession()"
   ]
  },
  {
   "cell_type": "code",
   "execution_count": null,
   "metadata": {
    "collapsed": true
   },
   "outputs": [],
   "source": [
    "def get_data_xml(xml_data):\n",
    "    tree = ET.parse(xml_data)\n",
    "    root = tree.getroot()\n",
    "    all_records = []\n",
    "    headers = []\n",
    "    j = 0\n",
    "    for i, child in enumerate(root):\n",
    "        yield child.attrib"
   ]
  },
  {
   "cell_type": "code",
   "execution_count": null,
   "metadata": {
    "collapsed": true
   },
   "outputs": [],
   "source": [
    "engine.echo = True"
   ]
  },
  {
   "cell_type": "code",
   "execution_count": null,
   "metadata": {
    "collapsed": false
   },
   "outputs": [],
   "source": [
    "for i in get_data_xml(\"../DataScience/Comments.xml\"):\n",
    "    i[\"Text\"] = i[\"Text\"].encode('ascii','ignore')\n",
    "    c = Comment(CreationDate=i.get(\"CreationDate\",\"\"),Id=i.get(\"Id\",\"\"),PostTypeId=i.get(\"PostTypeId\",\"\"),Score=i.get(\"Score\",\"\"),Text=i.get(\"Text\",\"\"),UserId=i.get(\"UserId\",\"\"))\n",
    "    session.add(c)  #x.encode('ascii','ignore')\n",
    "session.commit()"
   ]
  },
  {
   "cell_type": "code",
   "execution_count": null,
   "metadata": {
    "collapsed": false
   },
   "outputs": [],
   "source": [
    "for i in get_data_xml(\"../DataScience/Badges.xml\"):\n",
    "    c = Badge(Id=i.get(\"Id\",\"\"),TagBased=i.get(\"TagBased\",\"\"),Class=i.get(\"Class\",\"\"),Date=i.get(\"Date\",\"\"),Name=i.get(\"Name\",\"\"),UserId=i.get(\"UserId\",\"\"))\n",
    "    session.add(c)  #x.encode('ascii','ignore')\n",
    "session.commit()"
   ]
  },
  {
   "cell_type": "code",
   "execution_count": null,
   "metadata": {
    "collapsed": false
   },
   "outputs": [],
   "source": [
    "for i in get_data_xml(\"../DataScience/PostHistory.xml\"):\n",
    "    for k in i.keys():\n",
    "        i[k] = i[k].encode('ascii','ignore')\n",
    "    c = PostHistory(CreationDate=i.get(\"CreationDate\",\"\"),Id=i.get(\"Id\",\"\"),PostHistoryTypeId=i.get(\"PostHistoryTypeId\",\"\"),PostId=i.get(\"PostId\",\"\"),Text=i.get(\"Text\",\"\"),UserId=i.get(\"UserId\",\"\"),RevisionGUID=i.get(\"RevisionGUID\",\"\"))\n",
    "    session.add(c)\n",
    "session.commit()"
   ]
  },
  {
   "cell_type": "code",
   "execution_count": null,
   "metadata": {
    "collapsed": false
   },
   "outputs": [],
   "source": [
    "session.rollback()"
   ]
  },
  {
   "cell_type": "code",
   "execution_count": null,
   "metadata": {
    "collapsed": false
   },
   "outputs": [],
   "source": [
    "for i in get_data_xml(\"../DataScience/PostLinks.xml\"):\n",
    "    for k in i.keys():\n",
    "        i[k] = i[k].encode('ascii','ignore')\n",
    "    c = PostLink(CreationDate=i.get(\"CreationDate\",\"\"),Id=i.get(\"Id\",\"\"),PostId=i.get(\"PostId\",\"\"),LinkTypeId=i.get(\"LinkTypeId\",\"\"),RelatedPostId=i.get(\"RelatedPostId\",\"\"))\n",
    "    session.add(c)  #x.encode('ascii','ignore')\n",
    "session.commit()"
   ]
  },
  {
   "cell_type": "code",
   "execution_count": null,
   "metadata": {
    "collapsed": false
   },
   "outputs": [],
   "source": [
    "for i in get_data_xml(\"../DataScience/Posts.xml\"):\n",
    "    for k in i.keys():\n",
    "        i[k] = i[k].encode('ascii','ignore')\n",
    "    c = Post(CreationDate=i.get(\"CreationDate\",\"\"),Id=i.get(\"Id\",\"\"),PostTypeId=i.get(\"PostTypeId\",\"\"),Score=i.get(\"Score\",\"\"),ViewCount=i.get(\"ViewCount\",\"\"),Body=i.get(\"Body\",\"\"),\n",
    "            OwnerUserId=i.get(\"OwnerUserId\",\"\"),LastActivityDone=i.get(\"LastActivityDone\",\"\"),Tags=i.get(\"Tags\",\"\"),AnswerCount=i.get(\"AnswerCount\",\"\"),\n",
    "            Title=i.get(\"Title\",\"\"),CommentCount=i.get(\"CommentCount\",\"\"),FavoriteCount=i.get(\"FavoriteCount\",\"\"),ClosedDate=i.get(\"ClosedDate\",\"\"))\n",
    "    session.add(c)  #x.encode('ascii','ignore')\n",
    "session.commit()"
   ]
  },
  {
   "cell_type": "code",
   "execution_count": null,
   "metadata": {
    "collapsed": false
   },
   "outputs": [],
   "source": [
    "for i in get_data_xml(\"../DataScience/Tags.xml\"):\n",
    "    for k in i.keys():\n",
    "        i[k] = i[k].encode('ascii','ignore')\n",
    "    c = Tag(TagName=i.get(\"TagName\",\"\"),Id=i.get(\"Id\",\"\"),Count=i.get(\"Count\",\"\"),ExcerptPostId=i.get(\"ExcerptPostId\",\"\"),WikiPostId=i.get(\"WikiPostId\",\"\"))\n",
    "    session.add(c)  #x.encode('ascii','ignore')\n",
    "session.commit()"
   ]
  },
  {
   "cell_type": "code",
   "execution_count": null,
   "metadata": {
    "collapsed": false
   },
   "outputs": [],
   "source": [
    "for i in get_data_xml(\"../DataScience/Users.xml\"):\n",
    "    for k in i.keys():\n",
    "        i[k] = i[k].encode('ascii','ignore')\n",
    "    c = User(CreationDate=i.get(\"CreationDate\",\"\"),Id=i.get(\"Id\",\"\"),Reputation=i.get(\"Reputation\",\"\"),DisplayName=i.get(\"DisplayName\",\"\"),LastAccessDate=i.get(\"LastAccessDate\",\"\"),WebsiteUrl=i.get(\"WebsiteUrl\",\"\"),\n",
    "            Location=i.get(\"Location\",\"\"),AboutMe=i.get(\"AboutMe\",\"\"),Views=i.get(\"Views\",\"\"),UpVotes=i.get(\"UpVotes\",\"\"),DownVotes=i.get(\"DownVotes\",\"\"),AccountId=i.get(\"AccountId\",\"\"))\n",
    "    session.add(c)  #x.encode('ascii','ignore')\n",
    "session.commit()"
   ]
  },
  {
   "cell_type": "code",
   "execution_count": null,
   "metadata": {
    "collapsed": false
   },
   "outputs": [],
   "source": [
    "for i in get_data_xml(\"../DataScience/Votes.xml\"):\n",
    "    c = Vote(CreationDate=i.get(\"CreationDate\",\"\"),Id=i.get(\"Id\",\"\"),PostId=i.get(\"PostId\",\"\"),VoteTypeId=i.get(\"VoteTypeId\",\"\"))\n",
    "    session.add(c)  #x.encode('ascii','ignore')\n",
    "session.commit()"
   ]
  }
 ],
 "metadata": {
  "kernelspec": {
   "display_name": "Python 2",
   "language": "python",
   "name": "python2"
  },
  "language_info": {
   "codemirror_mode": {
    "name": "ipython",
    "version": 2
   },
   "file_extension": ".py",
   "mimetype": "text/x-python",
   "name": "python",
   "nbconvert_exporter": "python",
   "pygments_lexer": "ipython2",
   "version": "2.7.6"
  }
 },
 "nbformat": 4,
 "nbformat_minor": 2
}
